{
 "cells": [
  {
   "cell_type": "markdown",
   "metadata": {
    "slideshow": {
     "slide_type": "slide"
    }
   },
   "source": [
    "# Pip in a virtual environment\n",
    "    \n",
    "    #Setup a virtual environment\n",
    "    /path/to/python3 -m venv ml_tutorial\n",
    "    source ml_tutorial/bin/activate\n",
    "\n",
    "    # Upgrade pip to newest version\n",
    "    python -m pip install --upgrade pip\n",
    "\n",
    "    # Install the dependencies\n",
    "    python -m pip install numpy scipy scikit-learn"
   ]
  },
  {
   "cell_type": "markdown",
   "metadata": {
    "slideshow": {
     "slide_type": "slide"
    }
   },
   "source": [
    "# Conda\n",
    "\n",
    "    # After installing conda or miniconda\n",
    "    conda create -n ml_tutorial python=3.5 scikit-learn\n",
    "    source activate ml_tutorial\n",
    "\n",
    "    # Activate the Conda environment on Windows:\n",
    "    activate ml_tutorial"
   ]
  },
  {
   "cell_type": "markdown",
   "metadata": {
    "slideshow": {
     "slide_type": "slide"
    }
   },
   "source": [
    "\n",
    "# Optional\n",
    "    pip install jupyter matplotlib\n",
    "\n",
    "    # Inside a Conda environment (these are already installed in the base distribution)\n",
    "    conda install jupyter matplotlib"
   ]
  },
  {
   "cell_type": "markdown",
   "metadata": {
    "slideshow": {
     "slide_type": "slide"
    }
   },
   "source": [
    "# Testing Your Installation\n",
    "\n",
    "If the following works you are ready for this workshop.\n",
    "\n",
    "    import numpy as np\n",
    "    import sklearn\n",
    "\n",
    "    dataset = np.load('path/to/data.npz')\n",
    "    images = dataset['images']\n",
    "    labels = dataset['labels']"
   ]
  },
  {
   "cell_type": "code",
   "execution_count": null,
   "metadata": {
    "collapsed": true,
    "slideshow": {
     "slide_type": "slide"
    }
   },
   "outputs": [],
   "source": [
    "# Import the libraries\n",
    "\n",
    "\n",
    "# Load the dataset"
   ]
  },
  {
   "cell_type": "code",
   "execution_count": null,
   "metadata": {
    "collapsed": false,
    "slideshow": {
     "slide_type": "subslide"
    }
   },
   "outputs": [],
   "source": [
    "import numpy as np\n",
    "\n",
    "# Optional for plotting\n",
    "import matplotlib.pyplot as plt\n",
    "\n",
    "# Optional for notebook display\n",
    "%matplotlib inline\n",
    "\n",
    "data = np.load('data.npz')\n",
    "images = data['images']\n",
    "labels = data['labels']\n",
    "\n",
    "print(images.shape)\n",
    "print(images.dtype)"
   ]
  },
  {
   "cell_type": "code",
   "execution_count": null,
   "metadata": {
    "collapsed": true,
    "slideshow": {
     "slide_type": "slide"
    }
   },
   "outputs": [],
   "source": [
    "# Image Properties"
   ]
  },
  {
   "cell_type": "code",
   "execution_count": null,
   "metadata": {
    "collapsed": false,
    "slideshow": {
     "slide_type": "subslide"
    }
   },
   "outputs": [],
   "source": [
    "# Image Properties\n",
    "\n",
    "# Get the first image:\n",
    "first_image = images[0] # Or equivalently: images[0, :, :]\n",
    "print(first_image.shape)\n",
    "\n",
    "# Get first three images:\n",
    "several_images = images[:3]\n",
    "print(several_images.shape)"
   ]
  },
  {
   "cell_type": "markdown",
   "metadata": {
    "slideshow": {
     "slide_type": "slide"
    }
   },
   "source": [
    "# Our Data\n",
    "\n",
    "![](images/example_images.png)"
   ]
  },
  {
   "cell_type": "code",
   "execution_count": null,
   "metadata": {
    "collapsed": true,
    "slideshow": {
     "slide_type": "slide"
    }
   },
   "outputs": [],
   "source": [
    "# Slicing and dicing"
   ]
  },
  {
   "cell_type": "code",
   "execution_count": null,
   "metadata": {
    "collapsed": false,
    "slideshow": {
     "slide_type": "subslide"
    }
   },
   "outputs": [],
   "source": [
    "# Slicing and dicing\n",
    "cropped_image = first_image[4:20,4:20]\n",
    "print(cropped_image.shape)"
   ]
  },
  {
   "cell_type": "code",
   "execution_count": null,
   "metadata": {
    "collapsed": false,
    "slideshow": {
     "slide_type": "slide"
    }
   },
   "outputs": [],
   "source": [
    "# Getting our data in the right format"
   ]
  },
  {
   "cell_type": "code",
   "execution_count": null,
   "metadata": {
    "collapsed": true,
    "slideshow": {
     "slide_type": "subslide"
    }
   },
   "outputs": [],
   "source": [
    "# Getting our data in the right format\n",
    "\n",
    "X = np.reshape(images, (730, -1))\n",
    "print(X.shape)"
   ]
  },
  {
   "cell_type": "code",
   "execution_count": null,
   "metadata": {
    "collapsed": true,
    "slideshow": {
     "slide_type": "slide"
    }
   },
   "outputs": [],
   "source": [
    "# Modifying arrays"
   ]
  },
  {
   "cell_type": "code",
   "execution_count": null,
   "metadata": {
    "collapsed": false,
    "slideshow": {
     "slide_type": "subslide"
    }
   },
   "outputs": [],
   "source": [
    "# Modifying arrays\n",
    "\n",
    "increase_brightness = first_image + 30\n",
    "decrease_brightness = first_image - 30\n",
    "increase_contrast = first_image * 1.5\n",
    "decrease_contrast = first_image * 0.5\n",
    "\n",
    "brightness_compare = np.hstack((increase_brightness, decrease_brightness))\n",
    "constrast_compare = np.hstack((increase_contrast, decrease_contrast))\n",
    "\n",
    "plt.figure(figsize = (15, 12))\n",
    "plt.title('Brightness')\n",
    "plt.axis('off')\n",
    "plt.imshow(brightness_compare, cmap='gray') \n",
    "\n",
    "plt.figure(figsize = (15, 12))\n",
    "plt.title('Contrast')\n",
    "plt.axis('off')\n",
    "plt.imshow(constrast_compare, cmap='gray')"
   ]
  },
  {
   "cell_type": "markdown",
   "metadata": {
    "slideshow": {
     "slide_type": "slide"
    }
   },
   "source": [
    "# Questions/Exercises\n",
    "\n",
    "1. Why do we have to be careful with the datatype for numerical operations?"
   ]
  },
  {
   "cell_type": "markdown",
   "metadata": {
    "slideshow": {
     "slide_type": "slide"
    }
   },
   "source": [
    "Tag Number             |  Pattern   | Details\n",
    ":-------------------------:|:-------------------------: | :-------------------------:\n",
    "0  |  Rectangle | 100 bees that were the control group\n",
    "1  |  Circle    | 100 bees that were treated with caffeine\n",
    "2  | Blank      | Single queen in the colony received this tag"
   ]
  },
  {
   "cell_type": "code",
   "execution_count": null,
   "metadata": {
    "collapsed": true,
    "slideshow": {
     "slide_type": "fragment"
    }
   },
   "outputs": [],
   "source": [
    "# The labels to go with the images\n"
   ]
  },
  {
   "cell_type": "code",
   "execution_count": null,
   "metadata": {
    "collapsed": false,
    "slideshow": {
     "slide_type": "subslide"
    }
   },
   "outputs": [],
   "source": [
    "# The labels to go with the images\n",
    "\n",
    "labels = data['labels']\n",
    "\n",
    "print(labels.shape)\n",
    "print(labels[::100])\n",
    "\n",
    "y = labels"
   ]
  },
  {
   "cell_type": "code",
   "execution_count": null,
   "metadata": {
    "collapsed": false,
    "slideshow": {
     "slide_type": "slide"
    }
   },
   "outputs": [],
   "source": [
    "# Split of a testing set"
   ]
  },
  {
   "cell_type": "code",
   "execution_count": null,
   "metadata": {
    "collapsed": false,
    "slideshow": {
     "slide_type": "subslide"
    }
   },
   "outputs": [],
   "source": [
    "# Split of a testing set\n",
    "\n",
    "from sklearn.cross_validation import train_test_split\n",
    "\n",
    "X_train, X_test, y_train, y_test = train_test_split(X, y, test_size = 0.2, random_state=4)\n",
    "print(X_train.shape, y_train.shape, X_test.shape, y_test.shape)"
   ]
  },
  {
   "cell_type": "code",
   "execution_count": null,
   "metadata": {
    "collapsed": true,
    "slideshow": {
     "slide_type": "slide"
    }
   },
   "outputs": [],
   "source": [
    "# Visualise the data"
   ]
  },
  {
   "cell_type": "code",
   "execution_count": null,
   "metadata": {
    "collapsed": false,
    "slideshow": {
     "slide_type": "subslide"
    }
   },
   "outputs": [],
   "source": [
    "# Visualise the data\n",
    "from sklearn.decomposition import PCA\n",
    "\n",
    "pca = PCA(n_components=2)\n",
    "fit_trans_X = pca.fit(X).transform(X)\n",
    "plt.figure(figsize = (35, 20))\n",
    "plt.scatter(fit_trans_X[:, 0], fit_trans_X[:, 1], c=y, s=400)"
   ]
  },
  {
   "cell_type": "code",
   "execution_count": null,
   "metadata": {
    "collapsed": true
   },
   "outputs": [],
   "source": [
    "# A better transformation"
   ]
  },
  {
   "cell_type": "code",
   "execution_count": null,
   "metadata": {
    "collapsed": false,
    "slideshow": {
     "slide_type": "subslide"
    }
   },
   "outputs": [],
   "source": [
    "# A better transformation\n",
    "\n",
    "from sklearn.discriminant_analysis import LinearDiscriminantAnalysis as LDA\n",
    "\n",
    "lda = LDA(n_components=2)\n",
    "lda_model = lda.fit(X_train, y_train)\n",
    "X_trans = lda_model.transform(X_train)\n",
    "plt.figure(figsize = (35, 20))\n",
    "plt.scatter(X_trans[:, 0], X_trans[:, 1], c=y_train, s=400)"
   ]
  },
  {
   "cell_type": "markdown",
   "metadata": {
    "slideshow": {
     "slide_type": "slide"
    }
   },
   "source": [
    "![](images/svm.png)"
   ]
  },
  {
   "cell_type": "code",
   "execution_count": null,
   "metadata": {
    "collapsed": false,
    "slideshow": {
     "slide_type": "fragment"
    }
   },
   "outputs": [],
   "source": [
    "# Now lets make some predictions\n"
   ]
  },
  {
   "cell_type": "code",
   "execution_count": null,
   "metadata": {
    "collapsed": false,
    "slideshow": {
     "slide_type": "subslide"
    }
   },
   "outputs": [],
   "source": [
    "# Now lets make some predictions\n",
    "from sklearn import svm\n",
    "\n",
    "clf = svm.SVC(gamma=0.0001, C=10)\n",
    "clf.fit(X_trans, y_train)"
   ]
  },
  {
   "cell_type": "code",
   "execution_count": null,
   "metadata": {
    "collapsed": true,
    "slideshow": {
     "slide_type": "slide"
    }
   },
   "outputs": [],
   "source": [
    "# How well did we do?\n"
   ]
  },
  {
   "cell_type": "code",
   "execution_count": null,
   "metadata": {
    "collapsed": false,
    "slideshow": {
     "slide_type": "subslide"
    }
   },
   "outputs": [],
   "source": [
    "# How well did we do?\n",
    "transform_testing_set = lda.transform(X_test)\n",
    "y_pred = clf.predict(transform_testing_set)\n",
    "\n",
    "from sklearn import metrics\n",
    "\n",
    "print (metrics.accuracy_score(y_test, y_pred))"
   ]
  },
  {
   "cell_type": "markdown",
   "metadata": {
    "slideshow": {
     "slide_type": "slide"
    }
   },
   "source": [
    "# Exercises\n",
    "\n",
    "1. Replace the SVM classifier with any other classifier from the scikit-learn library.\n",
    "2. Compare the classification performance both with and without LDA.\n",
    "3. What happens if we evaluate our performance on the training set?"
   ]
  },
  {
   "cell_type": "code",
   "execution_count": null,
   "metadata": {
    "collapsed": true,
    "slideshow": {
     "slide_type": "slide"
    }
   },
   "outputs": [],
   "source": [
    "# Let's build a pipeline"
   ]
  },
  {
   "cell_type": "code",
   "execution_count": null,
   "metadata": {
    "collapsed": false,
    "slideshow": {
     "slide_type": "subslide"
    }
   },
   "outputs": [],
   "source": [
    "# Let's build a pipeline\n",
    "from sklearn.pipeline import Pipeline\n",
    "\n",
    "# Start by creating the individual steps in the pipeline\n",
    "lda = LDA(n_components=20)\n",
    "svc = svm.SVC(gamma=0.0001, C=10)\n",
    "\n",
    "pipeline = Pipeline([('lda', lda),\n",
    "                     ('svc', svc)])\n",
    "\n",
    "pipeline.fit(X_train, y_train)\n",
    "\n",
    "pipeline.score(X_test, y_test)"
   ]
  },
  {
   "cell_type": "code",
   "execution_count": null,
   "metadata": {
    "collapsed": true,
    "slideshow": {
     "slide_type": "slide"
    }
   },
   "outputs": [],
   "source": [
    "# Let's write an adapt for our images to the sklearn API\n",
    "from sklearn.base import TransformerMixin, BaseEstimator\n",
    "\n",
    "class CropUnwrap(TransformerMixin, BaseEstimator):\n",
    "\n",
    "    def __init__(self, crop_pixels=0):\n",
    "        self.crop_pixels = crop_pixels\n",
    "        return None\n",
    "\n",
    "    def fit(self, X, y=None):\n",
    "        return self\n",
    "\n",
    "    def transform(self, X, y=None):\n",
    "        X_crop = X[:, \n",
    "                   self.crop_pixels:24-self.crop_pixels, \n",
    "                   self.crop_pixels:24-self.crop_pixels]\n",
    "        rows, cols, depth = X.shape\n",
    "        return X.reshape((rows, cols*depth))"
   ]
  },
  {
   "cell_type": "code",
   "execution_count": null,
   "metadata": {
    "collapsed": true,
    "slideshow": {
     "slide_type": "slide"
    }
   },
   "outputs": [],
   "source": [
    "# Put it all together"
   ]
  },
  {
   "cell_type": "code",
   "execution_count": null,
   "metadata": {
    "collapsed": false,
    "slideshow": {
     "slide_type": "subslide"
    }
   },
   "outputs": [],
   "source": [
    "# Put it all together\n",
    "unwrap = CropUnwrap()\n",
    "lda = LDA(n_components=20)\n",
    "svc = svm.SVC(gamma=0.0001)\n",
    "\n",
    "pipeline = Pipeline([('unwrap', unwrap),\n",
    "                     ('lda', lda),\n",
    "                     ('svm', svc)])\n",
    "\n",
    "# Now we don't need X_train, we can start with our raw images\n",
    "\n",
    "pipeline.fit(images, labels)"
   ]
  },
  {
   "cell_type": "code",
   "execution_count": null,
   "metadata": {
    "collapsed": false
   },
   "outputs": [],
   "source": [
    "# Finding good parameters\n",
    "\n",
    "from sklearn.grid_search import RandomizedSearchCV\n",
    "\n",
    "search_range = {'lda__n_components': [5, 10, 15, 20, 30, 50],\n",
    "                'unwrap__crop_pixels': [0, 2, 4, 6, 8],\n",
    "                'svm__C': [1, 10, 100, 1000, 10e3, 10e4]}\n",
    "\n",
    "searcher = RandomizedSearchCV(pipeline, search_range, n_iter=20)\n",
    "\n",
    "searcher.fit(images, labels)"
   ]
  },
  {
   "cell_type": "code",
   "execution_count": null,
   "metadata": {
    "collapsed": false
   },
   "outputs": [],
   "source": [
    "# Testing it out"
   ]
  },
  {
   "cell_type": "code",
   "execution_count": null,
   "metadata": {
    "collapsed": false
   },
   "outputs": [],
   "source": [
    "# Testing it out\n",
    "print(searcher.best_score_)\n",
    "print(searcher.best_params_)\n",
    "searcher.score(images, labels)"
   ]
  },
  {
   "cell_type": "markdown",
   "metadata": {},
   "source": [
    "# Questions/Exercises\n",
    "\n",
    "1. Why is searcher.score(images, labels) not an accurate measure of performance? How do we fix it?\n",
    "2. Try out some other classifiers in the pipeline - can you improve the final performance on the test set? What about with other search parameters?\n",
    "3. Is accuracy really the best measure of performance for this dataset?"
   ]
  },
  {
   "cell_type": "code",
   "execution_count": null,
   "metadata": {
    "collapsed": false
   },
   "outputs": [],
   "source": [
    "# Solution to one:\n",
    "\n",
    "image_train, image_test, label_train, label_test = train_test_split(images, \n",
    "                                                                    labels, \n",
    "                                                                    test_size=0.2)\n",
    "searcher.fit(image_train, label_train)\n",
    "searcher.score(image_test, label_test)"
   ]
  },
  {
   "cell_type": "code",
   "execution_count": null,
   "metadata": {
    "collapsed": false
   },
   "outputs": [],
   "source": []
  },
  {
   "cell_type": "code",
   "execution_count": null,
   "metadata": {
    "collapsed": true
   },
   "outputs": [],
   "source": []
  }
 ],
 "metadata": {
  "celltoolbar": "Slideshow",
  "kernelspec": {
   "display_name": "Python 3",
   "language": "python",
   "name": "python3"
  },
  "language_info": {
   "codemirror_mode": {
    "name": "ipython",
    "version": 3
   },
   "file_extension": ".py",
   "mimetype": "text/x-python",
   "name": "python",
   "nbconvert_exporter": "python",
   "pygments_lexer": "ipython3",
   "version": "3.5.2"
  }
 },
 "nbformat": 4,
 "nbformat_minor": 0
}
